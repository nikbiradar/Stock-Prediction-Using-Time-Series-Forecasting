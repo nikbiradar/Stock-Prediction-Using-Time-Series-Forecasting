{
 "cells": [
  {
   "cell_type": "code",
   "execution_count": 1,
   "id": "9f2d353b",
   "metadata": {},
   "outputs": [],
   "source": [
    "import numpy as np\n",
    "import matplotlib.pyplot as plt"
   ]
  },
  {
   "cell_type": "code",
   "execution_count": 2,
   "id": "f9c9a348",
   "metadata": {},
   "outputs": [],
   "source": [
    "class Linear_Regression:\n",
    "\tdef __init__(self, X, Y):\n",
    "\t\tself.X = X\n",
    "\t\tself.Y = Y\n",
    "\t\tself.b = [0, 0]\n",
    "\t\n",
    "\tdef update_coeffs(self, learning_rate):\n",
    "\t\tY_pred = self.predict()\n",
    "\t\tY = self.Y\n",
    "\t\tm = len(Y)\n",
    "\t\tself.b[0] = self.b[0] - (learning_rate * ((1/m) *\n",
    "\t\t\t\t\t\t\t\tnp.sum(Y_pred - Y)))\n",
    "\n",
    "\t\tself.b[1] = self.b[1] - (learning_rate * ((1/m) *\n",
    "\t\t\t\t\t\t\t\tnp.sum((Y_pred - Y) * self.X)))\n",
    "\n",
    "\tdef predict(self, X=[]):\n",
    "\t\tY_pred = np.array([])\n",
    "\t\tif not X: X = self.X\n",
    "\t\tb = self.b\n",
    "\t\tfor x in X:\n",
    "\t\t\tY_pred = np.append(Y_pred, b[0] + (b[1] * x))\n",
    "\n",
    "\t\treturn Y_pred\n",
    "\t\n",
    "\tdef get_current_accuracy(self, Y_pred):\n",
    "\t\tp, e = Y_pred, self.Y\n",
    "\t\tn = len(Y_pred)\n",
    "\t\treturn 1-sum(\n",
    "\t\t\t[\n",
    "\t\t\t\tabs(p[i]-e[i])/e[i]\n",
    "\t\t\t\tfor i in range(n)\n",
    "\t\t\t\tif e[i] != 0]\n",
    "\t\t)/n\n",
    "\t#def predict(self, b, yi):\n",
    "\n",
    "\tdef compute_cost(self, Y_pred):\n",
    "\t\tm = len(self.Y)\n",
    "\t\tJ = (1 / 2*m) * (np.sum(Y_pred - self.Y)**2)\n",
    "\t\treturn J\n",
    "\n",
    "\tdef plot_best_fit(self, Y_pred, fig):\n",
    "\t\t\t\tf = plt.figure(fig)\n",
    "\t\t\t\tplt.scatter(self.X, self.Y, color='b')\n",
    "\t\t\t\tplt.plot(self.X, Y_pred, color='g')\n",
    "\t\t\t\tf.show()\n"
   ]
  },
  {
   "cell_type": "code",
   "execution_count": 6,
   "id": "be72657f",
   "metadata": {},
   "outputs": [
    {
     "name": "stdout",
     "output_type": "stream",
     "text": [
      "100 epochs elapsed\n",
      "Current accuracy is : 0.7873291519087363\n"
     ]
    },
    {
     "name": "stderr",
     "output_type": "stream",
     "text": [
      "/tmp/ipykernel_15177/3221062011.py:46: UserWarning: Matplotlib is currently using module://matplotlib_inline.backend_inline, which is a non-GUI backend, so cannot show the figure.\n",
      "  f.show()\n",
      "/tmp/ipykernel_15177/3221062011.py:46: UserWarning: Matplotlib is currently using module://matplotlib_inline.backend_inline, which is a non-GUI backend, so cannot show the figure.\n",
      "  f.show()\n",
      "/tmp/ipykernel_15177/3399086531.py:35: UserWarning: Matplotlib is currently using module://matplotlib_inline.backend_inline, which is a non-GUI backend, so cannot show the figure.\n",
      "  h.show()\n"
     ]
    },
    {
     "data": {
      "text/plain": [
       "array([ 0.20770108,  2.23193677,  4.25617245,  6.28040814,  8.30464382,\n",
       "       10.32887951, 12.35311519, 14.37735088, 16.40158656, 18.42582225])"
      ]
     },
     "execution_count": 6,
     "metadata": {},
     "output_type": "execute_result"
    },
    {
     "data": {
      "image/png": "[encoded data removed]",
      "text/plain": [
       "<Figure size 432x288 with 1 Axes>"
      ]
     },
     "metadata": {
      "needs_background": "light"
     },
     "output_type": "display_data"
    },
    {
     "data": {
      "image/png": "[encoded data removed]",
      "text/plain": [
       "<Figure size 432x288 with 1 Axes>"
      ]
     },
     "metadata": {
      "needs_background": "light"
     },
     "output_type": "display_data"
    },
    {
     "data": {
      "image/png": "[encoded data removed]",
      "text/plain": [
       "<Figure size 432x288 with 1 Axes>"
      ]
     },
     "metadata": {
      "needs_background": "light"
     },
     "output_type": "display_data"
    }
   ],
   "source": [
    "X = np.array([1,2,3,4,5,6,7,8,9,10,11,12])\n",
    "Y = np.array([3,2,8,7,11,13,12,18,17,22,25,22])\n",
    "\n",
    "regressor = Linear_Regression(X, Y)\n",
    "\n",
    "iterations = 0\n",
    "steps = 100\n",
    "learning_rate = 0.01\n",
    "costs = []\n",
    "\n",
    "#original best-fit line\n",
    "Y_pred = regressor.predict()\n",
    "regressor.plot_best_fit(Y_pred, 'Initial Best Fit Line')\n",
    "\n",
    "\n",
    "while 1:\n",
    "    Y_pred = regressor.predict()\n",
    "    cost = regressor.compute_cost(Y_pred)\n",
    "    costs.append(cost)\n",
    "    regressor.update_coeffs(learning_rate)\n",
    "\n",
    "    iterations += 1\n",
    "    if iterations % steps == 0:\n",
    "        print(iterations, \"epochs elapsed\")\n",
    "        print(\"Current accuracy is :\",\n",
    "            regressor.get_current_accuracy(Y_pred))\n",
    "        break\n",
    "\n",
    "#final best-fit line\n",
    "regressor.plot_best_fit(Y_pred, 'Final Best Fit Line')\n",
    "\n",
    "#plot to verify cost function decreases\n",
    "h = plt.figure('Verification')\n",
    "plt.plot(range(iterations), costs, color='b')\n",
    "h.show()\n",
    "\n",
    "# if user wants to predict using the regressor:\n",
    "regressor.predict([i for i in range(10)])"
   ]
  }
 ],
 "metadata": {
  "kernelspec": {
   "display_name": "Python 3 (ipykernel)",
   "language": "python",
   "name": "python3"
  },
  "language_info": {
   "codemirror_mode": {
    "name": "ipython",
    "version": 3
   },
   "file_extension": ".py",
   "mimetype": "text/x-python",
   "name": "python",
   "nbconvert_exporter": "python",
   "pygments_lexer": "ipython3",
   "version": "3.9.12"
  }
 },
 "nbformat": 4,
 "nbformat_minor": 5
}
